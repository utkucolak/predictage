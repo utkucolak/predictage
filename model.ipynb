{
 "cells": [
  {
   "cell_type": "markdown",
   "metadata": {},
   "source": [
    "First, we need to import the main libraries that we will definitely use later."
   ]
  },
  {
   "cell_type": "code",
   "execution_count": 1,
   "metadata": {
    "scrolled": false
   },
   "outputs": [],
   "source": [
    "import matplotlib.pyplot as plt\n",
    "import tensorflow as tf\n",
    "from matplotlib.image import imread\n",
    "import sys, os, shutil\n",
    "import numpy as np"
   ]
  },
  {
   "cell_type": "markdown",
   "metadata": {},
   "source": [
    "Train and test datasets must be seperated from each other, our is not right now. So let's seperate them. There is one issue that must be mentioned, there were not enough images in files of older ages etc 95,87 so I deleted the files that contain ages above 80. Also the model can be downloaded from kaggle, which is linked here:\n",
    "https://www.kaggle.com/frabbisw/facial-age"
   ]
  },
  {
   "cell_type": "code",
   "execution_count": 7,
   "metadata": {},
   "outputs": [],
   "source": [
    "data_dir = \"face_age\"\n",
    "train_dir = \"face_train_age\"\n",
    "test_size = 0.75\n",
    "for i in range(1,10):\n",
    "    name = \"00\" + str(i)\n",
    "    os.makedirs(os.path.join(train_dir, name))\n",
    "for i in range(10, 81):\n",
    "    name = \"0\"+str(i)\n",
    "    os.makedirs(os.path.join(train_dir, name))\n",
    "\n",
    "for i in range(len(os.listdir(data_dir))):\n",
    "    tfile = data_dir + \"\\\\\" + os.listdir(data_dir)[i]\n",
    "    target_file = os.listdir(tfile)\n",
    "    \n",
    "    test_split = int(np.round(test_size * len(target_file)))\n",
    "    for j in range(test_split):\n",
    "        old_path = tfile + \"\\\\\" + target_file[-j]\n",
    "        new_path = train_dir + \"\\\\\" +  os.listdir(data_dir)[i] + \"\\\\\" + target_file[-j]\n",
    "        os.replace(old_path, new_path)\n",
    "\n",
    "\n"
   ]
  },
  {
   "cell_type": "markdown",
   "metadata": {},
   "source": [
    "We need to create our augmented data which we can easily by the power of tensorflow"
   ]
  },
  {
   "cell_type": "code",
   "execution_count": 8,
   "metadata": {},
   "outputs": [
    {
     "name": "stdout",
     "output_type": "stream",
     "text": [
      "Found 7072 images belonging to 80 classes.\n",
      "Found 2362 images belonging to 80 classes.\n"
     ]
    }
   ],
   "source": [
    "train_datagen = tf.keras.preprocessing.image.ImageDataGenerator(rescale=1/255, horizontal_flip=True, rotation_range=0.2)\n",
    "train_data = train_datagen.flow_from_directory(train_dir, batch_size=10, class_mode=\"categorical\", target_size=(200,200))\n",
    "test_datagen = tf.keras.preprocessing.image.ImageDataGenerator(rescale=1/255)\n",
    "testing_data = test_datagen.flow_from_directory(data_dir, batch_size=10, class_mode='categorical', target_size=(200,200), shuffle=False)"
   ]
  },
  {
   "cell_type": "markdown",
   "metadata": {},
   "source": [
    "Create our callback class and model"
   ]
  },
  {
   "cell_type": "code",
   "execution_count": 9,
   "metadata": {},
   "outputs": [],
   "source": [
    "class myCallback(tf.keras.callbacks.Callback):\n",
    "    def on_epoch_end(self, epoch, logs={}):\n",
    "        if(logs.get('acc') > 0.95):\n",
    "            self.model.stop_training = True\n",
    "            \n",
    "callbacks = myCallback()"
   ]
  },
  {
   "cell_type": "code",
   "execution_count": 10,
   "metadata": {},
   "outputs": [
    {
     "name": "stdout",
     "output_type": "stream",
     "text": [
      "Epoch 1/35\n",
      "708/708 [==============================] - 68s 95ms/step - loss: 3.8604 - acc: 0.1336 - val_loss: 3.5344 - val_acc: 0.1562\n",
      "Epoch 2/35\n",
      "708/708 [==============================] - 69s 97ms/step - loss: 3.3803 - acc: 0.1673 - val_loss: 3.3574 - val_acc: 0.1740\n",
      "Epoch 3/35\n",
      "708/708 [==============================] - 69s 98ms/step - loss: 3.1027 - acc: 0.2077 - val_loss: 3.2031 - val_acc: 0.1744\n",
      "Epoch 4/35\n",
      "708/708 [==============================] - 67s 95ms/step - loss: 2.8328 - acc: 0.2568 - val_loss: 3.2331 - val_acc: 0.1749\n",
      "Epoch 5/35\n",
      "708/708 [==============================] - 66s 93ms/step - loss: 2.5416 - acc: 0.3235 - val_loss: 3.2681 - val_acc: 0.1804\n",
      "Epoch 6/35\n",
      "708/708 [==============================] - 66s 94ms/step - loss: 2.2643 - acc: 0.3890 - val_loss: 3.5750 - val_acc: 0.1710\n",
      "Epoch 7/35\n",
      "708/708 [==============================] - 67s 94ms/step - loss: 1.9536 - acc: 0.4707 - val_loss: 3.6899 - val_acc: 0.1761\n",
      "Epoch 8/35\n",
      "708/708 [==============================] - 62s 88ms/step - loss: 1.6939 - acc: 0.5392 - val_loss: 3.9649 - val_acc: 0.1710\n",
      "Epoch 9/35\n",
      "708/708 [==============================] - 63s 88ms/step - loss: 1.4077 - acc: 0.6152 - val_loss: 4.4162 - val_acc: 0.1740\n",
      "Epoch 10/35\n",
      "708/708 [==============================] - 63s 88ms/step - loss: 1.1896 - acc: 0.6695 - val_loss: 4.6378 - val_acc: 0.1740\n",
      "Epoch 11/35\n",
      "708/708 [==============================] - 63s 89ms/step - loss: 1.0387 - acc: 0.7180 - val_loss: 4.5375 - val_acc: 0.1681\n",
      "Epoch 12/35\n",
      "708/708 [==============================] - 63s 88ms/step - loss: 0.8555 - acc: 0.7602 - val_loss: 5.2610 - val_acc: 0.1710\n",
      "Epoch 13/35\n",
      "708/708 [==============================] - 63s 88ms/step - loss: 0.7962 - acc: 0.7803 - val_loss: 5.6458 - val_acc: 0.1655\n",
      "Epoch 14/35\n",
      "708/708 [==============================] - 62s 88ms/step - loss: 0.6495 - acc: 0.8248 - val_loss: 6.1911 - val_acc: 0.1668\n",
      "Epoch 15/35\n",
      "708/708 [==============================] - 63s 89ms/step - loss: 0.5625 - acc: 0.8404 - val_loss: 5.9871 - val_acc: 0.1634\n",
      "Epoch 16/35\n",
      "708/708 [==============================] - 63s 88ms/step - loss: 0.5467 - acc: 0.8508 - val_loss: 5.9375 - val_acc: 0.1732\n",
      "Epoch 17/35\n",
      "708/708 [==============================] - 63s 89ms/step - loss: 0.4617 - acc: 0.8733 - val_loss: 6.1903 - val_acc: 0.1681\n",
      "Epoch 18/35\n",
      "708/708 [==============================] - 63s 89ms/step - loss: 0.4172 - acc: 0.8879 - val_loss: 6.3749 - val_acc: 0.1685\n",
      "Epoch 19/35\n",
      "708/708 [==============================] - 63s 89ms/step - loss: 0.3866 - acc: 0.8966 - val_loss: 7.0590 - val_acc: 0.1765\n",
      "Epoch 20/35\n",
      "708/708 [==============================] - 63s 89ms/step - loss: 0.3790 - acc: 0.8966 - val_loss: 7.1811 - val_acc: 0.1626\n",
      "Epoch 21/35\n",
      "708/708 [==============================] - 62s 88ms/step - loss: 0.3459 - acc: 0.9084 - val_loss: 7.4379 - val_acc: 0.1681\n",
      "Epoch 22/35\n",
      "708/708 [==============================] - 62s 88ms/step - loss: 0.3219 - acc: 0.9123 - val_loss: 7.3805 - val_acc: 0.1566\n",
      "Epoch 23/35\n",
      "708/708 [==============================] - 63s 88ms/step - loss: 0.2813 - acc: 0.9251 - val_loss: 7.4811 - val_acc: 0.1736\n",
      "Epoch 24/35\n",
      "708/708 [==============================] - 62s 88ms/step - loss: 0.2829 - acc: 0.9243 - val_loss: 7.7786 - val_acc: 0.1761\n",
      "Epoch 25/35\n",
      "708/708 [==============================] - 63s 88ms/step - loss: 0.2606 - acc: 0.9340 - val_loss: 7.2837 - val_acc: 0.1693\n",
      "Epoch 26/35\n",
      "708/708 [==============================] - 62s 88ms/step - loss: 0.2461 - acc: 0.9316 - val_loss: 7.9307 - val_acc: 0.1685\n",
      "Epoch 27/35\n",
      "708/708 [==============================] - 63s 88ms/step - loss: 0.2313 - acc: 0.9375 - val_loss: 7.6022 - val_acc: 0.1668\n",
      "Epoch 28/35\n",
      "708/708 [==============================] - 63s 88ms/step - loss: 0.2360 - acc: 0.9379 - val_loss: 8.5370 - val_acc: 0.1757\n",
      "Epoch 29/35\n",
      "708/708 [==============================] - 63s 88ms/step - loss: 0.2317 - acc: 0.9399 - val_loss: 7.5259 - val_acc: 0.1677\n",
      "Epoch 30/35\n",
      "708/708 [==============================] - 64s 91ms/step - loss: 0.2222 - acc: 0.9398 - val_loss: 8.3108 - val_acc: 0.1651\n",
      "Epoch 31/35\n",
      "708/708 [==============================] - 64s 91ms/step - loss: 0.1998 - acc: 0.9481 - val_loss: 8.3916 - val_acc: 0.1715\n",
      "Epoch 32/35\n",
      "708/708 [==============================] - 65s 91ms/step - loss: 0.1937 - acc: 0.9464 - val_loss: 8.1563 - val_acc: 0.1732\n",
      "Epoch 33/35\n",
      "708/708 [==============================] - 64s 90ms/step - loss: 0.2319 - acc: 0.9376 - val_loss: 7.3626 - val_acc: 0.1630\n",
      "Epoch 34/35\n",
      "708/708 [==============================] - 65s 91ms/step - loss: 0.1793 - acc: 0.9542 - val_loss: 8.8899 - val_acc: 0.1622\n",
      "Epoch 35/35\n",
      "708/708 [==============================] - 64s 90ms/step - loss: 0.1891 - acc: 0.9514 - val_loss: 7.6166 - val_acc: 0.1630\n"
     ]
    },
    {
     "data": {
      "text/plain": [
       "<matplotlib.legend.Legend at 0x216243fc248>"
      ]
     },
     "execution_count": 10,
     "metadata": {},
     "output_type": "execute_result"
    },
    {
     "data": {
      "image/png": "[encoded data removed]",
      "text/plain": [
       "<Figure size 432x288 with 1 Axes>"
      ]
     },
     "metadata": {
      "needs_background": "light"
     },
     "output_type": "display_data"
    }
   ],
   "source": [
    "model = tf.keras.models.Sequential([\n",
    "    tf.keras.layers.Conv2D(32, (3,3), activation='relu', input_shape=(200,200,3)),\n",
    "    tf.keras.layers.MaxPooling2D(2,2),\n",
    "    tf.keras.layers.Conv2D(64, (3,3), activation='relu'),\n",
    "    tf.keras.layers.MaxPooling2D(2,2),\n",
    "    tf.keras.layers.Flatten(),\n",
    "    tf.keras.layers.Dense(256, activation='relu'),\n",
    "    tf.keras.layers.Dropout(0.2),\n",
    "    tf.keras.layers.Dense(80, activation='softmax')\n",
    "])\n",
    "\n",
    "model.compile(optimizer='adam', loss='categorical_crossentropy', metrics=['acc'])\n",
    "\n",
    "r = model.fit_generator(train_data, validation_data=testing_data, epochs=35, callbacks=[callbacks])\n",
    "\n",
    "\n",
    "plt.plot(r.history[\"acc\"], label=\"acc\")\n",
    "plt.plot(r.history[\"val_acc\"], label='val_acc')\n",
    "plt.legend()\n",
    "\n"
   ]
  },
  {
   "cell_type": "markdown",
   "metadata": {},
   "source": [
    "Let's save our model so we don't need to train it again and again"
   ]
  },
  {
   "cell_type": "code",
   "execution_count": 11,
   "metadata": {},
   "outputs": [
    {
     "name": "stdout",
     "output_type": "stream",
     "text": [
      "WARNING:tensorflow:From c:\\users\\casper\\appdata\\local\\programs\\python\\python37\\lib\\site-packages\\tensorflow\\python\\training\\tracking\\tracking.py:111: Model.state_updates (from tensorflow.python.keras.engine.training) is deprecated and will be removed in a future version.\n",
      "Instructions for updating:\n",
      "This property should not be used in TensorFlow 2.0, as updates are applied automatically.\n",
      "WARNING:tensorflow:From c:\\users\\casper\\appdata\\local\\programs\\python\\python37\\lib\\site-packages\\tensorflow\\python\\training\\tracking\\tracking.py:111: Layer.updates (from tensorflow.python.keras.engine.base_layer) is deprecated and will be removed in a future version.\n",
      "Instructions for updating:\n",
      "This property should not be used in TensorFlow 2.0, as updates are applied automatically.\n",
      "INFO:tensorflow:Assets written to: my_model\\assets\n"
     ]
    }
   ],
   "source": [
    "model.save_weights('my_weights')\n",
    "model.save('my_model')"
   ]
  },
  {
   "cell_type": "markdown",
   "metadata": {},
   "source": [
    "Our model just works fine, let's test it. I tested the model with a photo of a pretty girl, who is 19."
   ]
  },
  {
   "cell_type": "code",
   "execution_count": 25,
   "metadata": {},
   "outputs": [
    {
     "name": "stdout",
     "output_type": "stream",
     "text": [
      "<class 'numpy.ndarray'>\n",
      "(1, 200, 200, 3)\n"
     ]
    }
   ],
   "source": [
    "test_img = imread(\"alize.png\", 0) / 255\n",
    "print(type(test_img))\n",
    "test_img = tf.expand_dims(test_img, 0)\n",
    "print(test_img.shape)\n",
    "class_names = train_data.class_indices\n",
    "test_list = []\n",
    "for x, y in class_names.items():\n",
    "    test_list.append(y)\n"
   ]
  },
  {
   "cell_type": "markdown",
   "metadata": {},
   "source": [
    "Model says she's only 16, seems she looks younger than she is lol"
   ]
  },
  {
   "cell_type": "code",
   "execution_count": 26,
   "metadata": {},
   "outputs": [
    {
     "name": "stdout",
     "output_type": "stream",
     "text": [
      "16\n"
     ]
    }
   ],
   "source": [
    "p = model.predict(test_img)\n",
    "score = tf.nn.softmax(p[0])\n",
    "print(test_list[np.argmax(score)]+1)\n"
   ]
  },
  {
   "cell_type": "code",
   "execution_count": null,
   "metadata": {},
   "outputs": [],
   "source": []
  }
 ],
 "metadata": {
  "kernelspec": {
   "display_name": "Python 3",
   "language": "python",
   "name": "python3"
  },
  "language_info": {
   "codemirror_mode": {
    "name": "ipython",
    "version": 3
   },
   "file_extension": ".py",
   "mimetype": "text/x-python",
   "name": "python",
   "nbconvert_exporter": "python",
   "pygments_lexer": "ipython3",
   "version": "3.7.7"
  }
 },
 "nbformat": 4,
 "nbformat_minor": 4
}
