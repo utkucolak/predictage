{
 "cells": [
  {
   "cell_type": "markdown",
   "metadata": {},
   "source": [
    "First, we need to import the main libraries that we will definitely use later."
   ]
  },
  {
   "cell_type": "code",
   "execution_count": 1,
   "metadata": {
    "scrolled": false
   },
   "outputs": [],
   "source": [
    "import matplotlib.pyplot as plt\n",
    "import tensorflow as tf\n",
    "from matplotlib.image import imread\n",
    "import sys, os, shutil\n",
    "import numpy as np\n",
    "from tqdm import tqdm"
   ]
  },
  {
   "cell_type": "markdown",
   "metadata": {},
   "source": [
    "Train and test datasets must be seperated from each other, our is not right now. So let's seperate them. There is one issue that must be mentioned, there were not enough images in files of older ages etc 95,87 so I deleted the files that contain ages above 80. Also the model can be downloaded from kaggle, which is linked here:\n",
    "https://www.kaggle.com/frabbisw/facial-age"
   ]
  },
  {
   "cell_type": "code",
   "execution_count": 2,
   "metadata": {},
   "outputs": [
    {
     "name": "stderr",
     "output_type": "stream",
     "text": [
      "100%|███████████████████████████████████████████████████████| 99/99 [00:20<00:00,  4.78it/s]\n"
     ]
    }
   ],
   "source": [
    "\n",
    "ages = os.listdir(\"./face_age\")\n",
    "X = []\n",
    "Y = []\n",
    "for age in tqdm(ages):\n",
    "    ageint = int(age)\n",
    "    new_folder = \"./face_age/{0}\".format(age)\n",
    "    photos = os.listdir(new_folder)\n",
    "    for photo in photos:\n",
    "        img = imread(\"{0}/{1}\".format(new_folder, photo))\n",
    "        \n",
    "        X.append(img)\n",
    "        Y.append(ageint)\n",
    "\n",
    "\n"
   ]
  },
  {
   "cell_type": "markdown",
   "metadata": {},
   "source": [
    "We need to create our augmented data which we can easily by the power of tensorflow"
   ]
  },
  {
   "cell_type": "code",
   "execution_count": 3,
   "metadata": {},
   "outputs": [
    {
     "name": "stdout",
     "output_type": "stream",
     "text": [
      "<class 'list'>\n"
     ]
    }
   ],
   "source": [
    "from sklearn.model_selection import train_test_split\n",
    "print(type(X))\n",
    "X = np.array(X, dtype=np.float16)\n",
    "Y = np.array(Y)\n",
    "X_train, X_test, y_train, y_test = train_test_split(X, Y, test_size=0.2, random_state=42)"
   ]
  },
  {
   "cell_type": "markdown",
   "metadata": {},
   "source": [
    "Create our callback class and model"
   ]
  },
  {
   "cell_type": "code",
   "execution_count": null,
   "metadata": {},
   "outputs": [],
   "source": [
    "class myCallback(tf.keras.callbacks.Callback):\n",
    "    def on_epoch_end(self, epoch, logs={}):\n",
    "        if(logs.get('acc') > 0.95):\n",
    "            self.model.stop_training = True\n",
    "            \n",
    "callbacks = myCallback()"
   ]
  },
  {
   "cell_type": "code",
   "execution_count": 4,
   "metadata": {},
   "outputs": [
    {
     "name": "stdout",
     "output_type": "stream",
     "text": [
      "Epoch 1/90\n",
      "245/245 [==============================] - 50s 204ms/step - loss: 669.8611 - mae: 21.3239 - val_loss: 670.2559 - val_mae: 20.3157\n",
      "Epoch 2/90\n",
      "245/245 [==============================] - 23s 94ms/step - loss: 550.6848 - mae: 18.8744 - val_loss: 502.3948 - val_mae: 16.8346\n",
      "Epoch 3/90\n",
      "245/245 [==============================] - 21s 88ms/step - loss: 458.3939 - mae: 16.6983 - val_loss: 444.3762 - val_mae: 16.4106\n",
      "Epoch 4/90\n",
      "245/245 [==============================] - 21s 87ms/step - loss: 382.0176 - mae: 14.9390 - val_loss: 343.7991 - val_mae: 14.7249\n",
      "Epoch 5/90\n",
      "245/245 [==============================] - 21s 87ms/step - loss: 326.1472 - mae: 13.4384 - val_loss: 288.6346 - val_mae: 12.0733\n",
      "Epoch 6/90\n",
      "245/245 [==============================] - 21s 87ms/step - loss: 265.3648 - mae: 11.8791 - val_loss: 234.9913 - val_mae: 10.9530\n",
      "Epoch 7/90\n",
      "245/245 [==============================] - 21s 88ms/step - loss: 213.8280 - mae: 10.5098 - val_loss: 195.4775 - val_mae: 10.2842\n",
      "Epoch 8/90\n",
      "245/245 [==============================] - 22s 89ms/step - loss: 184.4233 - mae: 9.7307 - val_loss: 184.3998 - val_mae: 9.5717\n",
      "Epoch 9/90\n",
      "245/245 [==============================] - 22s 90ms/step - loss: 167.1838 - mae: 9.2000 - val_loss: 190.7244 - val_mae: 9.3661\n",
      "Epoch 10/90\n",
      "245/245 [==============================] - 22s 90ms/step - loss: 145.3142 - mae: 8.6752 - val_loss: 167.0644 - val_mae: 8.9761\n",
      "Epoch 11/90\n",
      "245/245 [==============================] - 22s 89ms/step - loss: 131.7509 - mae: 8.1905 - val_loss: 143.2698 - val_mae: 8.4786\n",
      "Epoch 12/90\n",
      "245/245 [==============================] - 22s 88ms/step - loss: 126.7591 - mae: 8.0054 - val_loss: 164.3030 - val_mae: 8.7065\n",
      "Epoch 13/90\n",
      "245/245 [==============================] - 22s 89ms/step - loss: 115.4374 - mae: 7.7082 - val_loss: 131.3767 - val_mae: 7.8442\n",
      "Epoch 14/90\n",
      "245/245 [==============================] - 22s 89ms/step - loss: 108.0503 - mae: 7.4527 - val_loss: 127.9410 - val_mae: 7.9842\n",
      "Epoch 15/90\n",
      "245/245 [==============================] - 21s 87ms/step - loss: 102.8770 - mae: 7.2220 - val_loss: 133.3572 - val_mae: 8.1846\n",
      "Epoch 16/90\n",
      "245/245 [==============================] - 21s 87ms/step - loss: 96.3499 - mae: 7.0065 - val_loss: 122.8801 - val_mae: 7.5475\n",
      "Epoch 17/90\n",
      "245/245 [==============================] - 21s 87ms/step - loss: 86.6209 - mae: 6.6514 - val_loss: 113.0611 - val_mae: 7.2808\n",
      "Epoch 18/90\n",
      "245/245 [==============================] - 21s 87ms/step - loss: 82.0223 - mae: 6.4711 - val_loss: 107.7054 - val_mae: 7.2546\n",
      "Epoch 19/90\n",
      "245/245 [==============================] - 21s 87ms/step - loss: 76.1186 - mae: 6.2606 - val_loss: 129.4294 - val_mae: 7.9923\n",
      "Epoch 20/90\n",
      "245/245 [==============================] - 22s 90ms/step - loss: 73.0918 - mae: 6.1106 - val_loss: 122.9296 - val_mae: 7.5648\n",
      "Epoch 21/90\n",
      "245/245 [==============================] - 22s 88ms/step - loss: 64.8003 - mae: 5.7946 - val_loss: 111.2167 - val_mae: 7.3514\n",
      "Epoch 22/90\n",
      "245/245 [==============================] - 21s 87ms/step - loss: 66.2132 - mae: 5.8094 - val_loss: 108.1458 - val_mae: 7.2006\n",
      "Epoch 23/90\n",
      "245/245 [==============================] - 22s 89ms/step - loss: 65.0591 - mae: 5.8184 - val_loss: 107.2862 - val_mae: 7.0754\n",
      "Epoch 24/90\n",
      "245/245 [==============================] - 29s 117ms/step - loss: 61.2598 - mae: 5.6644 - val_loss: 110.9911 - val_mae: 7.3021\n",
      "Epoch 25/90\n",
      "245/245 [==============================] - 23s 96ms/step - loss: 54.1244 - mae: 5.3306 - val_loss: 108.8558 - val_mae: 7.3818\n",
      "Epoch 26/90\n",
      "245/245 [==============================] - 23s 95ms/step - loss: 50.4526 - mae: 5.2261 - val_loss: 127.3425 - val_mae: 7.6085\n",
      "Epoch 27/90\n",
      "245/245 [==============================] - 22s 89ms/step - loss: 45.7471 - mae: 4.9567 - val_loss: 105.7174 - val_mae: 7.3905\n",
      "Epoch 28/90\n",
      "245/245 [==============================] - 22s 92ms/step - loss: 45.3944 - mae: 4.9357 - val_loss: 106.3971 - val_mae: 7.1656\n",
      "Epoch 29/90\n",
      "245/245 [==============================] - 22s 90ms/step - loss: 39.8590 - mae: 4.6469 - val_loss: 107.3811 - val_mae: 7.1287\n",
      "Epoch 30/90\n",
      "245/245 [==============================] - 30s 120ms/step - loss: 38.9492 - mae: 4.6062 - val_loss: 106.7325 - val_mae: 7.2533\n",
      "Epoch 31/90\n",
      "245/245 [==============================] - 22s 92ms/step - loss: 37.3693 - mae: 4.4885 - val_loss: 111.2740 - val_mae: 7.1515\n",
      "Epoch 32/90\n",
      "245/245 [==============================] - 22s 89ms/step - loss: 34.9820 - mae: 4.3559 - val_loss: 100.2484 - val_mae: 6.9581\n",
      "Epoch 33/90\n",
      "245/245 [==============================] - 22s 89ms/step - loss: 38.4150 - mae: 4.5542 - val_loss: 110.0803 - val_mae: 7.2271\n",
      "Epoch 34/90\n",
      "245/245 [==============================] - 22s 89ms/step - loss: 31.4646 - mae: 4.1389 - val_loss: 117.7721 - val_mae: 7.3130\n",
      "Epoch 35/90\n",
      "245/245 [==============================] - 22s 88ms/step - loss: 35.0814 - mae: 4.3687 - val_loss: 105.4490 - val_mae: 7.0290\n",
      "Epoch 36/90\n",
      "245/245 [==============================] - 22s 89ms/step - loss: 27.9316 - mae: 3.9099 - val_loss: 103.8727 - val_mae: 7.1069\n",
      "Epoch 37/90\n",
      "245/245 [==============================] - 23s 92ms/step - loss: 28.0875 - mae: 3.9332 - val_loss: 98.3625 - val_mae: 6.9627\n",
      "Epoch 38/90\n",
      "245/245 [==============================] - 22s 88ms/step - loss: 28.1907 - mae: 3.9261 - val_loss: 102.0650 - val_mae: 6.8879\n",
      "Epoch 39/90\n",
      "245/245 [==============================] - 22s 88ms/step - loss: 27.6549 - mae: 3.8809 - val_loss: 125.6800 - val_mae: 8.0384\n",
      "Epoch 40/90\n",
      "245/245 [==============================] - 22s 88ms/step - loss: 29.6947 - mae: 4.0167 - val_loss: 111.3756 - val_mae: 7.4965\n",
      "Epoch 41/90\n",
      "245/245 [==============================] - 21s 88ms/step - loss: 26.9490 - mae: 3.8590 - val_loss: 105.7541 - val_mae: 6.9280\n",
      "Epoch 42/90\n",
      "245/245 [==============================] - 22s 88ms/step - loss: 23.1030 - mae: 3.5899 - val_loss: 97.6013 - val_mae: 6.7784\n",
      "Epoch 43/90\n",
      "245/245 [==============================] - 21s 88ms/step - loss: 24.6904 - mae: 3.6496 - val_loss: 98.6979 - val_mae: 6.8933\n",
      "Epoch 44/90\n",
      "245/245 [==============================] - 22s 89ms/step - loss: 25.5216 - mae: 3.7018 - val_loss: 106.9465 - val_mae: 7.1742\n",
      "Epoch 45/90\n",
      "245/245 [==============================] - 22s 88ms/step - loss: 25.3828 - mae: 3.7151 - val_loss: 98.3960 - val_mae: 6.8375\n",
      "Epoch 46/90\n",
      "245/245 [==============================] - 22s 88ms/step - loss: 22.8846 - mae: 3.5431 - val_loss: 99.6038 - val_mae: 6.8837\n",
      "Epoch 47/90\n",
      "245/245 [==============================] - 22s 88ms/step - loss: 22.5414 - mae: 3.5366 - val_loss: 103.3165 - val_mae: 6.8923\n",
      "Epoch 48/90\n",
      "245/245 [==============================] - 21s 88ms/step - loss: 20.7094 - mae: 3.4261 - val_loss: 103.3374 - val_mae: 6.9559\n",
      "Epoch 49/90\n",
      "245/245 [==============================] - 22s 88ms/step - loss: 22.6059 - mae: 3.5421 - val_loss: 118.9158 - val_mae: 7.2914\n",
      "Epoch 50/90\n",
      "245/245 [==============================] - 22s 88ms/step - loss: 21.3423 - mae: 3.4097 - val_loss: 99.8703 - val_mae: 6.7979\n",
      "Epoch 51/90\n",
      "245/245 [==============================] - 21s 88ms/step - loss: 21.3794 - mae: 3.4121 - val_loss: 101.8313 - val_mae: 6.8470\n",
      "Epoch 52/90\n",
      "245/245 [==============================] - 21s 88ms/step - loss: 20.5062 - mae: 3.3408 - val_loss: 99.0760 - val_mae: 6.8347\n",
      "Epoch 53/90\n",
      "245/245 [==============================] - 21s 88ms/step - loss: 18.0712 - mae: 3.1643 - val_loss: 98.7140 - val_mae: 6.8683\n",
      "Epoch 54/90\n",
      "245/245 [==============================] - 21s 87ms/step - loss: 17.6605 - mae: 3.1500 - val_loss: 97.0121 - val_mae: 6.7894\n",
      "Epoch 55/90\n",
      "245/245 [==============================] - 22s 88ms/step - loss: 17.6669 - mae: 3.1183 - val_loss: 96.7294 - val_mae: 6.7772\n",
      "Epoch 56/90\n",
      "245/245 [==============================] - 21s 88ms/step - loss: 18.0405 - mae: 3.1638 - val_loss: 105.7701 - val_mae: 7.1167\n",
      "Epoch 57/90\n",
      "245/245 [==============================] - 21s 87ms/step - loss: 19.9317 - mae: 3.2894 - val_loss: 100.2659 - val_mae: 6.8389\n",
      "Epoch 58/90\n",
      "245/245 [==============================] - 21s 87ms/step - loss: 19.3015 - mae: 3.2452 - val_loss: 99.5381 - val_mae: 6.7405\n",
      "Epoch 59/90\n",
      "245/245 [==============================] - 21s 87ms/step - loss: 20.9133 - mae: 3.3854 - val_loss: 102.5161 - val_mae: 6.9547\n",
      "Epoch 60/90\n"
     ]
    },
    {
     "name": "stdout",
     "output_type": "stream",
     "text": [
      "245/245 [==============================] - 22s 88ms/step - loss: 19.1960 - mae: 3.2298 - val_loss: 118.3027 - val_mae: 7.2209\n",
      "Epoch 61/90\n",
      "245/245 [==============================] - 22s 88ms/step - loss: 17.9128 - mae: 3.1166 - val_loss: 102.3087 - val_mae: 6.8581\n",
      "Epoch 62/90\n",
      "245/245 [==============================] - 22s 88ms/step - loss: 17.7764 - mae: 3.1197 - val_loss: 112.1604 - val_mae: 7.3895\n",
      "Epoch 63/90\n",
      "245/245 [==============================] - 22s 88ms/step - loss: 18.6072 - mae: 3.1824 - val_loss: 102.6776 - val_mae: 6.8838\n",
      "Epoch 64/90\n",
      "245/245 [==============================] - 22s 88ms/step - loss: 17.7199 - mae: 3.1164 - val_loss: 98.6740 - val_mae: 6.7204\n",
      "Epoch 65/90\n",
      "245/245 [==============================] - 22s 89ms/step - loss: 15.8975 - mae: 2.9510 - val_loss: 96.1550 - val_mae: 6.8454\n",
      "Epoch 66/90\n",
      "245/245 [==============================] - 22s 88ms/step - loss: 15.3244 - mae: 2.9080 - val_loss: 98.8313 - val_mae: 6.7699\n",
      "Epoch 67/90\n",
      "245/245 [==============================] - 22s 88ms/step - loss: 14.2533 - mae: 2.7906 - val_loss: 92.2886 - val_mae: 6.6986\n",
      "Epoch 68/90\n",
      "245/245 [==============================] - 22s 88ms/step - loss: 15.4935 - mae: 2.9327 - val_loss: 100.2670 - val_mae: 6.7753\n",
      "Epoch 69/90\n",
      "245/245 [==============================] - 21s 88ms/step - loss: 15.5077 - mae: 2.9082 - val_loss: 98.4665 - val_mae: 6.8041\n",
      "Epoch 70/90\n",
      "245/245 [==============================] - 21s 88ms/step - loss: 17.2738 - mae: 3.0292 - val_loss: 97.0243 - val_mae: 6.6588\n",
      "Epoch 71/90\n",
      "245/245 [==============================] - 21s 87ms/step - loss: 14.7179 - mae: 2.8358 - val_loss: 100.0497 - val_mae: 6.8820\n",
      "Epoch 72/90\n",
      "245/245 [==============================] - 22s 88ms/step - loss: 15.9773 - mae: 2.9542 - val_loss: 100.4961 - val_mae: 6.7400\n",
      "Epoch 73/90\n",
      "245/245 [==============================] - 21s 88ms/step - loss: 14.5732 - mae: 2.8014 - val_loss: 99.5584 - val_mae: 6.7168\n",
      "Epoch 74/90\n",
      "245/245 [==============================] - 22s 88ms/step - loss: 15.3406 - mae: 2.8654 - val_loss: 92.2618 - val_mae: 6.6816\n",
      "Epoch 75/90\n",
      "245/245 [==============================] - 21s 88ms/step - loss: 15.3368 - mae: 2.8546 - val_loss: 100.2407 - val_mae: 6.7072\n",
      "Epoch 76/90\n",
      "245/245 [==============================] - 22s 88ms/step - loss: 15.8166 - mae: 2.9135 - val_loss: 100.1068 - val_mae: 6.9579\n",
      "Epoch 77/90\n",
      "245/245 [==============================] - 22s 88ms/step - loss: 14.0345 - mae: 2.7526 - val_loss: 99.6418 - val_mae: 6.7391\n",
      "Epoch 78/90\n",
      "245/245 [==============================] - 21s 87ms/step - loss: 14.6712 - mae: 2.8065 - val_loss: 101.6398 - val_mae: 6.8449\n",
      "Epoch 79/90\n",
      "245/245 [==============================] - 21s 88ms/step - loss: 15.6680 - mae: 2.8786 - val_loss: 108.4621 - val_mae: 6.9029\n",
      "Epoch 80/90\n",
      "245/245 [==============================] - 21s 87ms/step - loss: 14.3892 - mae: 2.7671 - val_loss: 104.6548 - val_mae: 6.7729\n",
      "Epoch 81/90\n",
      "245/245 [==============================] - 21s 88ms/step - loss: 14.2360 - mae: 2.7477 - val_loss: 100.1855 - val_mae: 6.8557\n",
      "Epoch 82/90\n",
      "245/245 [==============================] - 22s 88ms/step - loss: 12.3161 - mae: 2.5585 - val_loss: 95.1101 - val_mae: 6.6374\n",
      "Epoch 83/90\n",
      "245/245 [==============================] - 29s 118ms/step - loss: 16.1821 - mae: 2.9091 - val_loss: 109.8231 - val_mae: 7.1678\n",
      "Epoch 84/90\n",
      "245/245 [==============================] - 22s 90ms/step - loss: 17.1810 - mae: 3.0049 - val_loss: 98.6938 - val_mae: 6.6863\n",
      "Epoch 85/90\n",
      "245/245 [==============================] - 22s 89ms/step - loss: 13.3573 - mae: 2.6676 - val_loss: 96.1334 - val_mae: 6.6108\n",
      "Epoch 86/90\n",
      "245/245 [==============================] - 21s 88ms/step - loss: 14.2014 - mae: 2.7465 - val_loss: 97.5920 - val_mae: 6.6578\n",
      "Epoch 87/90\n",
      "245/245 [==============================] - 22s 88ms/step - loss: 12.5563 - mae: 2.5997 - val_loss: 99.4736 - val_mae: 6.8227\n",
      "Epoch 88/90\n",
      "245/245 [==============================] - 22s 88ms/step - loss: 13.4136 - mae: 2.6647 - val_loss: 99.6177 - val_mae: 6.7999\n",
      "Epoch 89/90\n",
      "245/245 [==============================] - 21s 88ms/step - loss: 14.0753 - mae: 2.7388 - val_loss: 98.6101 - val_mae: 6.7397\n",
      "Epoch 90/90\n",
      "245/245 [==============================] - 21s 87ms/step - loss: 12.9309 - mae: 2.6300 - val_loss: 99.4971 - val_mae: 6.7522\n"
     ]
    },
    {
     "data": {
      "text/plain": [
       "<matplotlib.legend.Legend at 0x27be5ee1f48>"
      ]
     },
     "execution_count": 4,
     "metadata": {},
     "output_type": "execute_result"
    },
    {
     "data": {
      "image/png": "[encoded data removed]",
      "text/plain": [
       "<Figure size 432x288 with 1 Axes>"
      ]
     },
     "metadata": {
      "needs_background": "light"
     },
     "output_type": "display_data"
    }
   ],
   "source": [
    "model = tf.keras.models.Sequential([\n",
    "    tf.keras.layers.Conv2D(32, (3,3), activation='relu', input_shape=(200,200,3)),\n",
    "    tf.keras.layers.MaxPooling2D(2,2),\n",
    "    tf.keras.layers.Conv2D(64, (3,3), activation='relu'),\n",
    "    tf.keras.layers.MaxPooling2D(2,2),\n",
    "    tf.keras.layers.Conv2D(64, (3,3), activation='relu'),\n",
    "    tf.keras.layers.MaxPooling2D(2,2),\n",
    "    tf.keras.layers.Conv2D(64, (3,3), activation='relu'),\n",
    "    tf.keras.layers.MaxPooling2D(2,2),\n",
    "    tf.keras.layers.Conv2D(64, (3,3), activation='relu'),\n",
    "    tf.keras.layers.MaxPooling2D(2,2),\n",
    "    tf.keras.layers.Conv2D(64, (3,3), activation='relu'),\n",
    "    tf.keras.layers.MaxPooling2D(2,2),\n",
    "    tf.keras.layers.Flatten(),\n",
    "    tf.keras.layers.Dense(256, activation='relu'),\n",
    "    tf.keras.layers.Dropout(0.2),\n",
    "    tf.keras.layers.Dense(1, activation='relu')\n",
    "])\n",
    "\n",
    "model.compile(optimizer='adam', loss='mse', metrics=['mae'])\n",
    "\n",
    "r = model.fit(X_train, y_train, validation_data=(X_test,y_test), epochs=90)\n",
    "\n",
    "\n",
    "plt.plot(r.history[\"loss\"], label=\"loss\")\n",
    "plt.plot(r.history[\"val_loss\"], label='val_loss')\n",
    "plt.legend()\n",
    "\n"
   ]
  },
  {
   "cell_type": "markdown",
   "metadata": {},
   "source": [
    "Let's save our model so we don't need to train it again and again"
   ]
  },
  {
   "cell_type": "code",
   "execution_count": 21,
   "metadata": {},
   "outputs": [
    {
     "data": {
      "text/plain": [
       "<matplotlib.legend.Legend at 0x27bec538fc8>"
      ]
     },
     "execution_count": 21,
     "metadata": {},
     "output_type": "execute_result"
    },
    {
     "data": {
      "image/png": "[encoded data removed]",
      "text/plain": [
       "<Figure size 432x288 with 1 Axes>"
      ]
     },
     "metadata": {
      "needs_background": "light"
     },
     "output_type": "display_data"
    }
   ],
   "source": [
    "plt.plot(r.history[\"mae\"], label=\"mae\")\n",
    "plt.plot(r.history[\"val_mae\"], label=\"val_mae\")\n",
    "plt.legend()"
   ]
  },
  {
   "cell_type": "code",
   "execution_count": 26,
   "metadata": {},
   "outputs": [
    {
     "name": "stdout",
     "output_type": "stream",
     "text": [
      "INFO:tensorflow:Assets written to: my_model\\assets\n"
     ]
    }
   ],
   "source": [
    "model.save_weights('my_weights')\n",
    "model.save('my_model')"
   ]
  },
  {
   "cell_type": "markdown",
   "metadata": {},
   "source": [
    "Our model just works fine, let's test it. I tested the model with a photo of a pretty girl, who is 19."
   ]
  },
  {
   "cell_type": "code",
   "execution_count": 24,
   "metadata": {},
   "outputs": [
    {
     "name": "stdout",
     "output_type": "stream",
     "text": [
      "<class 'numpy.ndarray'>\n",
      "(1, 200, 200, 3)\n"
     ]
    }
   ],
   "source": [
    "test_img = imread(\"yas.png\", 0) / 255\n",
    "print(type(test_img))\n",
    "test_img = tf.expand_dims(test_img, 0)\n",
    "print(test_img.shape)\n",
    "\n"
   ]
  },
  {
   "cell_type": "markdown",
   "metadata": {},
   "source": [
    "Model says she's only 16, seems she looks younger than she is lol"
   ]
  },
  {
   "cell_type": "code",
   "execution_count": 25,
   "metadata": {},
   "outputs": [
    {
     "name": "stdout",
     "output_type": "stream",
     "text": [
      "4 - 10\n"
     ]
    }
   ],
   "source": [
    "p = model.predict(test_img)\n",
    "score = tf.nn.softmax(p[0])\n",
    "print(str(int(np.round(p)[0][0])-3) + \" - \" + str(int(np.round(p)[0][0])+3))\n"
   ]
  },
  {
   "cell_type": "code",
   "execution_count": null,
   "metadata": {},
   "outputs": [],
   "source": []
  }
 ],
 "metadata": {
  "kernelspec": {
   "display_name": "Python 3",
   "language": "python",
   "name": "python3"
  },
  "language_info": {
   "codemirror_mode": {
    "name": "ipython",
    "version": 3
   },
   "file_extension": ".py",
   "mimetype": "text/x-python",
   "name": "python",
   "nbconvert_exporter": "python",
   "pygments_lexer": "ipython3",
   "version": "3.7.7"
  }
 },
 "nbformat": 4,
 "nbformat_minor": 4
}
